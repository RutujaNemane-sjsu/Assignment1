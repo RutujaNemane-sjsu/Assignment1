{
  "nbformat": 4,
  "nbformat_minor": 0,
  "metadata": {
    "colab": {
      "provenance": [],
      "toc_visible": true
    },
    "kernelspec": {
      "name": "python3",
      "display_name": "Python 3"
    },
    "language_info": {
      "name": "python"
    }
  },
  "cells": [
    {
      "cell_type": "markdown",
      "source": [
        "# Python Basics\n"
      ],
      "metadata": {
        "id": "o6I8PwZpybpF"
      }
    },
    {
      "cell_type": "code",
      "execution_count": null,
      "metadata": {
        "colab": {
          "base_uri": "https://localhost:8080/"
        },
        "id": "qpIjvr8NP1oF",
        "outputId": "5b220bd6-a421-47b2-ded1-ed4e29f8ce9c"
      },
      "outputs": [
        {
          "output_type": "stream",
          "name": "stdout",
          "text": [
            "Hello World\n"
          ]
        }
      ],
      "source": [
        "print(\"Hello World\")"
      ]
    },
    {
      "cell_type": "code",
      "source": [
        "name=\"Rutuja Nemane\"\n",
        "print(name)\n",
        "name=18179733\n",
        "print(name)"
      ],
      "metadata": {
        "colab": {
          "base_uri": "https://localhost:8080/"
        },
        "id": "cS1yG3bbWLfa",
        "outputId": "b49da4f5-8149-4458-c48d-ebc5bc458580"
      },
      "execution_count": null,
      "outputs": [
        {
          "output_type": "stream",
          "name": "stdout",
          "text": [
            "Rutuja Nemane\n",
            "18179733\n"
          ]
        }
      ]
    },
    {
      "cell_type": "code",
      "source": [
        "print(\"1+2-3*2=\",1+2-3*2)\n",
        "print(\"(1+2-3)*2=\",(1+2-3)*2)"
      ],
      "metadata": {
        "colab": {
          "base_uri": "https://localhost:8080/"
        },
        "id": "RfvnI3MwWoL2",
        "outputId": "c1768039-dc99-44fe-feb0-e693067350cb"
      },
      "execution_count": null,
      "outputs": [
        {
          "output_type": "stream",
          "name": "stdout",
          "text": [
            "1+2-3*2= -3\n",
            "(1+2-3)*2= 0\n"
          ]
        }
      ]
    },
    {
      "cell_type": "code",
      "source": [
        "quote=\"\\\"All is well\\\"\"\n",
        "multi_line_quote='''All\n",
        "is well'''\n",
        "print(\"%s\\n%s\" % (quote, multi_line_quote))\n",
        "\n",
        "print(\"\\n\"*5)\n",
        "\n",
        "print(\"%s\" % quote, end=\"\"+\"$\")\n",
        "\n"
      ],
      "metadata": {
        "colab": {
          "base_uri": "https://localhost:8080/"
        },
        "id": "DQz-2DQIW3Sv",
        "outputId": "d1959040-b1f5-4f99-aeda-e3fb4138c3aa"
      },
      "execution_count": null,
      "outputs": [
        {
          "output_type": "stream",
          "name": "stdout",
          "text": [
            "\"All is well\"\n",
            "All\n",
            "is well\n",
            "\n",
            "\n",
            "\n",
            "\n",
            "\n",
            "\n",
            "\"All is well\"$"
          ]
        }
      ]
    },
    {
      "cell_type": "code",
      "source": [
        "#Lists\n",
        "\n",
        "grocery_list=[\"Juice\", \"Tomatoes\"]\n",
        "print('First item:', grocery_list[0])\n",
        "grocery_list[0]=\"Apple Juice\"\n",
        "print('First item:', grocery_list[0])\n",
        "\n",
        "print(grocery_list[0:2])\n",
        "\n",
        "other_list=[\"car\", \"bike\"]\n",
        "\n",
        "combined_list=[grocery_list,other_list]\n",
        "print(combined_list)\n",
        "\n",
        "print(combined_list[0][1])\n",
        "\n",
        "other_list.append(\"van\")\n",
        "print(combined_list)\n",
        "\n",
        "other_list.insert(2, \"truck\")\n",
        "print(combined_list)\n",
        "\n",
        "other_list.sort()\n",
        "print(combined_list)\n",
        "\n",
        "other_list.reverse()\n",
        "print(combined_list)\n",
        "\n",
        "del other_list[1]\n",
        "print(combined_list)\n",
        "\n",
        "final_list=combined_list+grocery_list\n",
        "print(final_list)\n",
        "\n",
        "print(len(final_list))\n",
        "print(max(other_list))\n",
        "print(min(other_list))"
      ],
      "metadata": {
        "colab": {
          "base_uri": "https://localhost:8080/"
        },
        "id": "jnzWuyb-YFch",
        "outputId": "4b646c9b-736f-4986-babe-0a11c1c1f540"
      },
      "execution_count": null,
      "outputs": [
        {
          "output_type": "stream",
          "name": "stdout",
          "text": [
            "First item: Juice\n",
            "First item: Apple Juice\n",
            "['Apple Juice', 'Tomatoes']\n",
            "[['Apple Juice', 'Tomatoes'], ['car', 'bike']]\n",
            "Tomatoes\n",
            "[['Apple Juice', 'Tomatoes'], ['car', 'bike', 'van']]\n",
            "[['Apple Juice', 'Tomatoes'], ['car', 'bike', 'truck', 'van']]\n",
            "[['Apple Juice', 'Tomatoes'], ['bike', 'car', 'truck', 'van']]\n",
            "[['Apple Juice', 'Tomatoes'], ['van', 'truck', 'car', 'bike']]\n",
            "[['Apple Juice', 'Tomatoes'], ['van', 'car', 'bike']]\n",
            "[['Apple Juice', 'Tomatoes'], ['van', 'car', 'bike'], 'Apple Juice', 'Tomatoes']\n",
            "4\n",
            "van\n",
            "bike\n"
          ]
        }
      ]
    },
    {
      "cell_type": "code",
      "source": [
        "# Tuples\n",
        "\n",
        "tuple1=(1,4,3)\n",
        "list1=list(tuple1)\n",
        "new_tuple=tuple(list1)\n",
        "\n",
        "print(tuple1, list1, new_tuple)\n",
        "print(len(tuple1), max(tuple1), min(tuple1))"
      ],
      "metadata": {
        "colab": {
          "base_uri": "https://localhost:8080/"
        },
        "id": "RCJ8lh88XVb1",
        "outputId": "e8d7c483-1847-44c9-a061-fdefe85cde8d"
      },
      "execution_count": null,
      "outputs": [
        {
          "output_type": "stream",
          "name": "stdout",
          "text": [
            "(1, 4, 3) [1, 4, 3] (1, 4, 3)\n",
            "3 4 1\n"
          ]
        }
      ]
    },
    {
      "cell_type": "code",
      "source": [
        "# Dictionaries\n",
        "# cannot join dictionaries together\n",
        "\n",
        "students={\"1\": \"A\",\n",
        "          \"2\": \"B\",\n",
        "          \"3\": \"C\"}\n",
        "print(students)\n",
        "\n",
        "print(students['2'])\n",
        "\n",
        "del students['3']\n",
        "print(students)\n",
        "\n",
        "students['2']='D'\n",
        "print(students)\n",
        "\n",
        "print(len(students))\n",
        "print(students.get('1'))\n",
        "\n",
        "print(students.keys())\n",
        "print(students.values())"
      ],
      "metadata": {
        "colab": {
          "base_uri": "https://localhost:8080/"
        },
        "id": "D4zAZsWOakBJ",
        "outputId": "631f5bdc-b39f-4203-b757-1cbd83931bdd"
      },
      "execution_count": null,
      "outputs": [
        {
          "output_type": "stream",
          "name": "stdout",
          "text": [
            "{'1': 'A', '2': 'B', '3': 'C'}\n",
            "B\n",
            "{'1': 'A', '2': 'B'}\n",
            "{'1': 'A', '2': 'D'}\n",
            "2\n",
            "A\n",
            "dict_keys(['1', '2'])\n",
            "dict_values(['A', 'D'])\n"
          ]
        }
      ]
    },
    {
      "cell_type": "code",
      "source": [
        "# Conditions\n",
        "\n",
        "age=3\n",
        "if age>18:\n",
        "  print(\"age is greater than 18\")\n",
        "elif age==18:\n",
        "  print(\"age is equal to 18\")\n",
        "else:\n",
        "  print(\"age is less than 18\")\n",
        "\n",
        "if age>1 and age<18:\n",
        "  print(\"age is between 2 and 17\")"
      ],
      "metadata": {
        "colab": {
          "base_uri": "https://localhost:8080/"
        },
        "id": "dSuj3FFNcg3H",
        "outputId": "a1456beb-c835-407e-8c95-3ba2aa839334"
      },
      "execution_count": null,
      "outputs": [
        {
          "output_type": "stream",
          "name": "stdout",
          "text": [
            "age is less than 18\n",
            "age is between 2 and 17\n"
          ]
        }
      ]
    },
    {
      "cell_type": "code",
      "source": [
        "# For Loops\n",
        "\n",
        "for i in range(10):\n",
        "  print(i, \" \", end=\"\")\n",
        "print(\"\\n\")\n",
        "list=['car', 'bike']\n",
        "for i in list:\n",
        "  print(i)\n",
        "\n",
        "array=[[1,2],[3,4]]\n",
        "for i in range(0, len(array)):\n",
        "  for j in range(0,len(array[i])):\n",
        "    print(array[i][j])"
      ],
      "metadata": {
        "colab": {
          "base_uri": "https://localhost:8080/"
        },
        "id": "O0hjB03WfeLb",
        "outputId": "5138d063-8de7-4ece-cf3c-e989c1737036"
      },
      "execution_count": null,
      "outputs": [
        {
          "output_type": "stream",
          "name": "stdout",
          "text": [
            "0  1  2  3  4  5  6  7  8  9  \n",
            "\n",
            "car\n",
            "bike\n",
            "1\n",
            "2\n",
            "3\n",
            "4\n"
          ]
        }
      ]
    },
    {
      "cell_type": "code",
      "source": [
        "# while loops\n",
        "import random\n",
        "\n",
        "rand=random.randrange(0,10)\n",
        "\n",
        "while(rand!=1):\n",
        "  print(rand, end=\" \")\n",
        "  rand=random.randrange(0,10)"
      ],
      "metadata": {
        "colab": {
          "base_uri": "https://localhost:8080/"
        },
        "id": "ZKoigAwXirYK",
        "outputId": "05ba8da7-e62b-4599-a684-700d1000c816"
      },
      "execution_count": null,
      "outputs": [
        {
          "output_type": "stream",
          "name": "stdout",
          "text": [
            "9 9 0 6 0 7 7 5 0 9 5 7 8 8 6 2 "
          ]
        }
      ]
    },
    {
      "cell_type": "code",
      "source": [
        "num=0;\n",
        "\n",
        "while(num<=20):\n",
        "  if(num%2==0):\n",
        "    print(num, end=\" \")\n",
        "  num+=1"
      ],
      "metadata": {
        "colab": {
          "base_uri": "https://localhost:8080/"
        },
        "id": "MDt4nUvik8dY",
        "outputId": "4f80029c-ffa0-40e4-cdb9-5efd336b58c8"
      },
      "execution_count": null,
      "outputs": [
        {
          "output_type": "stream",
          "name": "stdout",
          "text": [
            "0 2 4 6 8 10 12 14 16 18 20 "
          ]
        }
      ]
    },
    {
      "cell_type": "code",
      "source": [
        "def addition(num1, num2):\n",
        "  sum=num1+num2\n",
        "  return sum\n",
        "\n",
        "print(addition(1,2))"
      ],
      "metadata": {
        "colab": {
          "base_uri": "https://localhost:8080/"
        },
        "id": "MeFH_vpWlU52",
        "outputId": "798421cd-f98b-42ae-f7cf-5abf74343c3c"
      },
      "execution_count": null,
      "outputs": [
        {
          "output_type": "stream",
          "name": "stdout",
          "text": [
            "3\n"
          ]
        }
      ]
    },
    {
      "cell_type": "code",
      "source": [
        "print(\"What is your name?\")\n",
        "name=input()\n",
        "print(\"name=\", name)"
      ],
      "metadata": {
        "colab": {
          "base_uri": "https://localhost:8080/"
        },
        "id": "-7fdJx4QloQU",
        "outputId": "e4f4acbe-0ed1-4b88-ecb2-6b70e5819ee6"
      },
      "execution_count": null,
      "outputs": [
        {
          "output_type": "stream",
          "name": "stdout",
          "text": [
            "What is your name?\n",
            "Rutuja\n",
            "name= Rutuja\n"
          ]
        }
      ]
    },
    {
      "cell_type": "code",
      "source": [
        "string=\"Call you later\"\n",
        "print(string[0:4])\n",
        "print(string[-2:])\n",
        "print(string[:-5])\n",
        "print(string[:4]+\" me\")\n",
        "print(\"char=%c, string=%s, number=%d, decimal=%.5f\"% ('a',\"Apple\", 12, 1.2))\n",
        "\n",
        "string1=\"rutuja * nemane\"\n",
        "print(string1.capitalize())\n",
        "print(string1.find(\"j\"))\n",
        "print(string1.isalpha())\n",
        "print(string1.isalnum())\n",
        "print(len(string1))\n",
        "print(string1.replace(\"r\", \"R\"))\n",
        "print(len(string1.strip()))\n",
        "print(string1.split(\" \"))\n",
        "\n"
      ],
      "metadata": {
        "colab": {
          "base_uri": "https://localhost:8080/"
        },
        "id": "C2ytvDZPmrpv",
        "outputId": "e73d4252-383c-49ad-8b34-9a5b0677cfcd"
      },
      "execution_count": null,
      "outputs": [
        {
          "output_type": "stream",
          "name": "stdout",
          "text": [
            "Call\n",
            "er\n",
            "Call you \n",
            "Call me\n",
            "char=a, string=Apple, number=12, decimal=1.20000\n",
            "Rutuja * nemane\n",
            "4\n",
            "False\n",
            "False\n",
            "15\n",
            "Rutuja * nemane\n",
            "15\n",
            "['rutuja', '*', 'nemane']\n"
          ]
        }
      ]
    },
    {
      "cell_type": "code",
      "source": [
        "import os\n",
        "file=open(\"test.txt\", \"wb\")\n",
        "print(file.mode)\n",
        "print(file.name)\n",
        "file.write(bytes(\"Writing to the file\\n\", 'UTF-8'))\n",
        "file.close()\n",
        "\n",
        "file=open(\"test.txt\",\"r+\")\n",
        "text=file.read()\n",
        "print(text)\n",
        "\n",
        "os.remove(\"test.txt\")"
      ],
      "metadata": {
        "colab": {
          "base_uri": "https://localhost:8080/"
        },
        "id": "G_SpLBJVpX3p",
        "outputId": "7572060e-28cc-43ea-d96d-207df06a5091"
      },
      "execution_count": null,
      "outputs": [
        {
          "output_type": "stream",
          "name": "stdout",
          "text": [
            "wb\n",
            "test.txt\n",
            "Writing to the file\n",
            "\n"
          ]
        }
      ]
    },
    {
      "cell_type": "code",
      "source": [
        "class Student:\n",
        "  __name=0\n",
        "  __id=0\n",
        "\n",
        "  def __init__(self, name, id):\n",
        "    self.__name=name\n",
        "    self.__id=id\n",
        "\n",
        "  def get_name(self):\n",
        "    return self.__name\n",
        "\n",
        "  def set_name(self,name):\n",
        "    self.__name=name\n",
        "\n",
        "  def get_id(self):\n",
        "    return self.__id\n",
        "\n",
        "  def set_id(self, id):\n",
        "    self._id=id\n",
        "\n",
        "  def get_type(self):\n",
        "    print(\"student\")\n",
        "\n",
        "  def print(self):\n",
        "    return \"{} is name of the student with id {}\".format(self.__name, self.__id)\n",
        "\n",
        "student=Student('Rutuja',1)\n",
        "print(student.get_name())\n",
        "student.set_name('Rutuja Nemane')\n",
        "print(student.get_name())\n",
        "print(student.print())\n",
        "\n",
        "\n",
        "class Leader(Student):\n",
        "  __dept=\"\"\n",
        "\n",
        "  def __init__(self, name, id, dept):\n",
        "    self.__dept=dept\n",
        "    super(Leader, self).__init__(name, id)\n",
        "\n",
        "  def set_dept(self, dept):\n",
        "    self.__dept=dept\n",
        "\n",
        "  def get_dept(self):\n",
        "    return self.__dept\n",
        "\n",
        "  def get_type(self):\n",
        "    print(\"leader\")\n",
        "\n",
        "  def print(self):\n",
        "    return \"{} is name of the student with id {} belonging to {} department\".format(self.get_name(), self.get_id(), self.__dept)\n",
        "\n",
        "leader=Leader(\"Rutuja\", 1, \"Computer\");\n",
        "print(leader.print())\n",
        "\n",
        "class StudentTesting:\n",
        "  def get_type(self, student):\n",
        "    student.get_type()\n",
        "\n",
        "test_student=StudentTesting()\n",
        "test_student.get_type(student)\n",
        "test_student.get_type(leader)\n",
        "\n",
        "\n",
        "\n"
      ],
      "metadata": {
        "colab": {
          "base_uri": "https://localhost:8080/"
        },
        "id": "LMHkQ-Prnx63",
        "outputId": "26ebd261-dc5f-4c5c-a34c-3b48944a306c"
      },
      "execution_count": null,
      "outputs": [
        {
          "output_type": "stream",
          "name": "stdout",
          "text": [
            "Rutuja\n",
            "Rutuja Nemane\n",
            "Rutuja Nemane is name of the student with id 1\n",
            "Rutuja is name of the student with id 1 belonging to Computer department\n",
            "student\n",
            "leader\n"
          ]
        }
      ]
    },
    {
      "cell_type": "markdown",
      "source": [
        "# Advanced colab\n"
      ],
      "metadata": {
        "id": "-4q3AZPAykjN"
      }
    },
    {
      "cell_type": "code",
      "source": [
        "# Downloading dataset\n",
        "!wget https://github.com/prasertcbs/basic-dataset/blob/master/sales_year_excel/2019.xlsx"
      ],
      "metadata": {
        "id": "3RBV87KmBJJN",
        "colab": {
          "base_uri": "https://localhost:8080/"
        },
        "outputId": "801f8e1a-7994-49b0-dafc-dc5001c5781e"
      },
      "execution_count": null,
      "outputs": [
        {
          "output_type": "stream",
          "name": "stdout",
          "text": [
            "--2024-09-08 07:17:14--  https://github.com/prasertcbs/basic-dataset/blob/master/sales_year_excel/2019.xlsx\n",
            "Resolving github.com (github.com)... 140.82.112.3\n",
            "Connecting to github.com (github.com)|140.82.112.3|:443... connected.\n",
            "HTTP request sent, awaiting response... 200 OK\n",
            "Length: unspecified [text/html]\n",
            "Saving to: ‘2019.xlsx’\n",
            "\n",
            "2019.xlsx               [  <=>               ] 207.34K   734KB/s    in 0.3s    \n",
            "\n",
            "2024-09-08 07:17:15 (734 KB/s) - ‘2019.xlsx’ saved [212315]\n",
            "\n"
          ]
        }
      ]
    },
    {
      "cell_type": "code",
      "source": [
        "# connect to google drive with mount\n",
        "from google.colab import drive\n",
        "drive.mount('mount')"
      ],
      "metadata": {
        "id": "yBqYecB2Rtvq",
        "colab": {
          "base_uri": "https://localhost:8080/"
        },
        "outputId": "8f34bc13-aec9-48e9-ed42-b794bb5685fb"
      },
      "execution_count": null,
      "outputs": [
        {
          "output_type": "stream",
          "name": "stdout",
          "text": [
            "Mounted at mount\n"
          ]
        }
      ]
    },
    {
      "cell_type": "code",
      "source": [
        "# copy a file there to here\n",
        "!cp mount/My\\ Drive/Assignment1 ."
      ],
      "metadata": {
        "id": "gCt289dlR23S"
      },
      "execution_count": null,
      "outputs": []
    },
    {
      "cell_type": "code",
      "source": [
        "from google.colab import drive\n",
        "drive.mount('/content/drive')"
      ],
      "metadata": {
        "colab": {
          "base_uri": "https://localhost:8080/"
        },
        "id": "_DC6j5vBgE7Y",
        "outputId": "133635da-6a0a-40a2-ea33-16e1359c676f"
      },
      "execution_count": 59,
      "outputs": [
        {
          "output_type": "stream",
          "name": "stdout",
          "text": [
            "Mounted at /content/drive\n"
          ]
        }
      ]
    },
    {
      "cell_type": "code",
      "source": [
        "# download a public file\n",
        "!gdown  0B7EVK8r0v71pZjFTYXZWM3FlRnM"
      ],
      "metadata": {
        "id": "tR0z6cJRcaSZ"
      },
      "execution_count": null,
      "outputs": []
    },
    {
      "cell_type": "code",
      "source": [
        "# Listing all zip files\n",
        "!ls -al *.zip"
      ],
      "metadata": {
        "colab": {
          "base_uri": "https://localhost:8080/"
        },
        "id": "SnTA_8kscrZq",
        "outputId": "081bb770-b53d-4294-c739-2a1ed695ff22"
      },
      "execution_count": 61,
      "outputs": [
        {
          "output_type": "stream",
          "name": "stdout",
          "text": [
            "-rw-r--r-- 1 root root    3985515 May 22  2019 dataset.zip\n",
            "-rw-r--r-- 1 root root 1443490838 Sep  8 07:03 img_align_celeba.zip\n"
          ]
        }
      ]
    },
    {
      "cell_type": "code",
      "source": [
        "# Listing all csv files\n",
        "!ls -al *.csv"
      ],
      "metadata": {
        "colab": {
          "base_uri": "https://localhost:8080/"
        },
        "id": "8Bjm5EIikaxK",
        "outputId": "a4b6d571-5bca-4453-f1f0-9bd8fc861aa7"
      },
      "execution_count": 62,
      "outputs": [
        {
          "output_type": "stream",
          "name": "stdout",
          "text": [
            "-rw-r--r-- 1 root root 1290521 May 22  2019 competition_submit_df.csv\n",
            "-rw-r--r-- 1 root root 1237134 May 22  2019 competition_test_df.csv\n",
            "-rw-r--r-- 1 root root 1768604 Sep  8 07:32 snaplogic_pipeline_segment_test.csv\n",
            "-rw-r--r-- 1 root root 5356390 May 22  2019 snaplogic_pipeline_segment_train.csv\n",
            "-rw-r--r-- 1 root root  787928 Sep  8 07:33 submit_df.csv\n",
            "-rw-r--r-- 1 root root  755266 Sep  8 07:33 test_df.csv\n",
            "-rw-r--r-- 1 root root  397108 Sep  8 06:57 titanic.csv\n",
            "-rw-r--r-- 1 root root 2599434 May 22  2019 train_df.csv\n",
            "-rw-r--r-- 1 root root  374752 Sep  8 07:32 valid_df.csv\n"
          ]
        }
      ]
    },
    {
      "cell_type": "code",
      "source": [
        "# authentication\n",
        "from google.colab import auth\n",
        "auth.authenticate_user()"
      ],
      "metadata": {
        "id": "TyncK2C7cvYy"
      },
      "execution_count": 63,
      "outputs": []
    },
    {
      "cell_type": "code",
      "source": [
        "# download a folder\n",
        "folder_id=\"1HvIeNhqtFVllXFWzH5NawDdnIfgGDwCK\""
      ],
      "metadata": {
        "id": "36l_VdM-c5Wd"
      },
      "execution_count": 91,
      "outputs": []
    },
    {
      "cell_type": "code",
      "source": [
        "# list all ids of files under folder folder_id\n",
        "def folder_list(folder_id):\n",
        "  from googleapiclient.discovery import build\n",
        "  gdrive = build('drive', 'v3').files()\n",
        "  res = gdrive.list(q=\"'%s' in parents\" % folder_id).execute()\n",
        "  return [f['id'] for f in res['files']]"
      ],
      "metadata": {
        "id": "TLstMlEVc8-W"
      },
      "execution_count": 92,
      "outputs": []
    },
    {
      "cell_type": "code",
      "source": [
        "folder_list(folder_id)"
      ],
      "metadata": {
        "colab": {
          "base_uri": "https://localhost:8080/"
        },
        "id": "1QETiGBbdAiZ",
        "outputId": "0019e0fa-5222-4c39-a112-655ed75c3c6c"
      },
      "execution_count": 93,
      "outputs": [
        {
          "output_type": "execute_result",
          "data": {
            "text/plain": [
              "['1MJGCY0uhkwxoBpSXAYWk6WKHUAYMxGlQ',\n",
              " '1KgSEm4A7hCov2Ta6-CZldqT-9JgtiVRI',\n",
              " '16wxQwBvzMUTK5PYdakkaVFV-F38vi7RK',\n",
              " '1LuB1aplL2cl-Hs_BFdZgPoDcCnNsGJBa',\n",
              " '11mzTo7aWTeCs4TSPqKQKbYDl9xIxBISQ',\n",
              " '1VgAS5dGP2ub4G_PJ_4YwEXjEiDhqyiyt',\n",
              " '17duniZO_R7p3eTIkMzSRbNpHdQjonAMQ',\n",
              " '12oSVL5pFxe-DqVk5GWjBYHxbi9gGGYha',\n",
              " '1QKUWh62qzaOIBebJY0IkcAxqHCEaeYo1',\n",
              " '1QEMMVAAsA93qrlXhVxjFH4wbLiU6R6Ds',\n",
              " '18SYApxloSMwaSgnOILkOm7FjOVaFH6DH',\n",
              " '1jAg2oODTyVZvHvDwEdQhmxsnQWG-cbLH',\n",
              " '1toORa_XzdSj4UNMYSyeVmEgEniMot9PJ',\n",
              " '1aHDIvbB6MKZTxIfZgAeU8WzN6JIsGrPa']"
            ]
          },
          "metadata": {},
          "execution_count": 93
        }
      ]
    },
    {
      "cell_type": "code",
      "source": [
        "# download all\n",
        "def folder_download(folder_id):\n",
        "  for fid in folder_list(folder_id):\n",
        "    !gdown -q $fid # $ sign used to substitute the value of the variable"
      ],
      "metadata": {
        "id": "TokFFF4ddCcc"
      },
      "execution_count": 94,
      "outputs": []
    },
    {
      "cell_type": "code",
      "source": [
        "folder_download(folder_id)"
      ],
      "metadata": {
        "id": "Qf9PowyadFZn"
      },
      "execution_count": 95,
      "outputs": []
    },
    {
      "cell_type": "code",
      "source": [
        "# conda\n",
        "!wget -c https://repo.continuum.io/archive/Anaconda3-5.2.0-Linux-x86_64.sh\n",
        "!chmod +x Anaconda3-5.2.0-Linux-x86_64.sh\n",
        "!bash ./Anaconda3-5.2.0-Linux-x86_64.sh -b -f -p /usr/local"
      ],
      "metadata": {
        "id": "M9PT6DN5loGZ",
        "colab": {
          "base_uri": "https://localhost:8080/"
        },
        "outputId": "7792b7cd-8f58-424d-bcf8-56816a2bbfb1"
      },
      "execution_count": 76,
      "outputs": [
        {
          "output_type": "stream",
          "name": "stdout",
          "text": [
            "--2024-09-08 08:02:01--  https://repo.continuum.io/archive/Anaconda3-5.2.0-Linux-x86_64.sh\n",
            "Resolving repo.continuum.io (repo.continuum.io)... 104.18.177.84, 104.18.176.84, 2606:4700::6812:b154, ...\n",
            "Connecting to repo.continuum.io (repo.continuum.io)|104.18.177.84|:443... connected.\n",
            "HTTP request sent, awaiting response... 301 Moved Permanently\n",
            "Location: https://repo.anaconda.com/archive/Anaconda3-5.2.0-Linux-x86_64.sh [following]\n",
            "--2024-09-08 08:02:01--  https://repo.anaconda.com/archive/Anaconda3-5.2.0-Linux-x86_64.sh\n",
            "Resolving repo.anaconda.com (repo.anaconda.com)... 104.16.191.158, 104.16.32.241, 2606:4700::6810:20f1, ...\n",
            "Connecting to repo.anaconda.com (repo.anaconda.com)|104.16.191.158|:443... connected.\n",
            "HTTP request sent, awaiting response... 416 Requested Range Not Satisfiable\n",
            "\n",
            "    The file is already fully retrieved; nothing to do.\n",
            "\n",
            "PREFIX=/usr/local\n",
            "installing: python-3.6.5-hc3d631a_2 ...\n",
            "Python 3.6.5 :: Anaconda, Inc.\n",
            "installing: blas-1.0-mkl ...\n",
            "installing: ca-certificates-2018.03.07-0 ...\n",
            "installing: conda-env-2.6.0-h36134e3_1 ...\n",
            "installing: intel-openmp-2018.0.0-8 ...\n",
            "installing: libgcc-ng-7.2.0-hdf63c60_3 ...\n",
            "installing: libgfortran-ng-7.2.0-hdf63c60_3 ...\n",
            "installing: libstdcxx-ng-7.2.0-hdf63c60_3 ...\n",
            "installing: bzip2-1.0.6-h14c3975_5 ...\n",
            "installing: expat-2.2.5-he0dffb1_0 ...\n",
            "installing: gmp-6.1.2-h6c8ec71_1 ...\n",
            "installing: graphite2-1.3.11-h16798f4_2 ...\n",
            "installing: icu-58.2-h9c2bf20_1 ...\n",
            "installing: jbig-2.1-hdba287a_0 ...\n",
            "installing: jpeg-9b-h024ee3a_2 ...\n",
            "installing: libffi-3.2.1-hd88cf55_4 ...\n",
            "installing: libsodium-1.0.16-h1bed415_0 ...\n",
            "installing: libtool-2.4.6-h544aabb_3 ...\n",
            "installing: libxcb-1.13-h1bed415_1 ...\n",
            "installing: lzo-2.10-h49e0be7_2 ...\n",
            "installing: mkl-2018.0.2-1 ...\n",
            "installing: ncurses-6.1-hf484d3e_0 ...\n",
            "installing: openssl-1.0.2o-h20670df_0 ...\n",
            "installing: patchelf-0.9-hf79760b_2 ...\n",
            "installing: pcre-8.42-h439df22_0 ...\n",
            "installing: pixman-0.34.0-hceecf20_3 ...\n",
            "installing: snappy-1.1.7-hbae5bb6_3 ...\n",
            "installing: tk-8.6.7-hc745277_3 ...\n",
            "installing: unixodbc-2.3.6-h1bed415_0 ...\n",
            "installing: xz-5.2.4-h14c3975_4 ...\n",
            "installing: yaml-0.1.7-had09818_2 ...\n",
            "installing: zlib-1.2.11-ha838bed_2 ...\n",
            "installing: blosc-1.14.3-hdbcaa40_0 ...\n",
            "installing: glib-2.56.1-h000015b_0 ...\n",
            "installing: hdf5-1.10.2-hba1933b_1 ...\n",
            "installing: libedit-3.1.20170329-h6b74fdf_2 ...\n",
            "installing: libpng-1.6.34-hb9fc6fc_0 ...\n",
            "installing: libssh2-1.8.0-h9cfc8f7_4 ...\n",
            "installing: libtiff-4.0.9-he85c1e1_1 ...\n",
            "installing: libxml2-2.9.8-h26e45fe_1 ...\n",
            "installing: mpfr-3.1.5-h11a74b3_2 ...\n",
            "installing: pandoc-1.19.2.1-hea2e7c5_1 ...\n",
            "installing: readline-7.0-ha6073c6_4 ...\n",
            "installing: zeromq-4.2.5-h439df22_0 ...\n",
            "installing: dbus-1.13.2-h714fa37_1 ...\n",
            "installing: freetype-2.8-hab7d2ae_1 ...\n",
            "installing: gstreamer-1.14.0-hb453b48_1 ...\n",
            "installing: libcurl-7.60.0-h1ad7b7a_0 ...\n",
            "installing: libxslt-1.1.32-h1312cb7_0 ...\n",
            "installing: mpc-1.0.3-hec55b23_5 ...\n",
            "installing: sqlite-3.23.1-he433501_0 ...\n",
            "installing: curl-7.60.0-h84994c4_0 ...\n",
            "installing: fontconfig-2.12.6-h49f89f6_0 ...\n",
            "installing: gst-plugins-base-1.14.0-hbbd80ab_1 ...\n",
            "installing: alabaster-0.7.10-py36h306e16b_0 ...\n",
            "installing: asn1crypto-0.24.0-py36_0 ...\n",
            "installing: attrs-18.1.0-py36_0 ...\n",
            "installing: backcall-0.1.0-py36_0 ...\n",
            "installing: backports-1.0-py36hfa02d7e_1 ...\n",
            "installing: beautifulsoup4-4.6.0-py36h49b8c8c_1 ...\n",
            "installing: bitarray-0.8.1-py36h14c3975_1 ...\n",
            "installing: boto-2.48.0-py36h6e4cd66_1 ...\n",
            "installing: cairo-1.14.12-h7636065_2 ...\n",
            "installing: certifi-2018.4.16-py36_0 ...\n",
            "installing: chardet-3.0.4-py36h0f667ec_1 ...\n",
            "installing: click-6.7-py36h5253387_0 ...\n",
            "installing: cloudpickle-0.5.3-py36_0 ...\n",
            "installing: colorama-0.3.9-py36h489cec4_0 ...\n",
            "installing: contextlib2-0.5.5-py36h6c84a62_0 ...\n",
            "installing: dask-core-0.17.5-py36_0 ...\n",
            "installing: decorator-4.3.0-py36_0 ...\n",
            "installing: docutils-0.14-py36hb0f60f5_0 ...\n",
            "installing: entrypoints-0.2.3-py36h1aec115_2 ...\n",
            "installing: et_xmlfile-1.0.1-py36hd6bccc3_0 ...\n",
            "installing: fastcache-1.0.2-py36h14c3975_2 ...\n",
            "installing: filelock-3.0.4-py36_0 ...\n",
            "installing: glob2-0.6-py36he249c77_0 ...\n",
            "installing: gmpy2-2.0.8-py36hc8893dd_2 ...\n",
            "installing: greenlet-0.4.13-py36h14c3975_0 ...\n",
            "installing: heapdict-1.0.0-py36_2 ...\n",
            "installing: idna-2.6-py36h82fb2a8_1 ...\n",
            "installing: imagesize-1.0.0-py36_0 ...\n",
            "installing: ipython_genutils-0.2.0-py36hb52b0d5_0 ...\n",
            "installing: itsdangerous-0.24-py36h93cc618_1 ...\n",
            "installing: jdcal-1.4-py36_0 ...\n",
            "installing: kiwisolver-1.0.1-py36h764f252_0 ...\n",
            "installing: lazy-object-proxy-1.3.1-py36h10fcdad_0 ...\n",
            "installing: llvmlite-0.23.1-py36hdbcaa40_0 ...\n",
            "installing: locket-0.2.0-py36h787c0ad_1 ...\n",
            "installing: lxml-4.2.1-py36h23eabaa_0 ...\n",
            "installing: markupsafe-1.0-py36hd9260cd_1 ...\n",
            "installing: mccabe-0.6.1-py36h5ad9710_1 ...\n",
            "installing: mistune-0.8.3-py36h14c3975_1 ...\n",
            "installing: mkl-service-1.1.2-py36h17a0993_4 ...\n",
            "installing: mpmath-1.0.0-py36hfeacd6b_2 ...\n",
            "installing: msgpack-python-0.5.6-py36h6bb024c_0 ...\n",
            "installing: multipledispatch-0.5.0-py36_0 ...\n",
            "installing: numpy-base-1.14.3-py36h9be14a7_1 ...\n",
            "installing: olefile-0.45.1-py36_0 ...\n",
            "installing: pandocfilters-1.4.2-py36ha6701b7_1 ...\n",
            "installing: parso-0.2.0-py36_0 ...\n",
            "installing: path.py-11.0.1-py36_0 ...\n",
            "installing: pep8-1.7.1-py36_0 ...\n",
            "installing: pickleshare-0.7.4-py36h63277f8_0 ...\n",
            "installing: pkginfo-1.4.2-py36_1 ...\n",
            "installing: pluggy-0.6.0-py36hb689045_0 ...\n",
            "installing: ply-3.11-py36_0 ...\n",
            "installing: psutil-5.4.5-py36h14c3975_0 ...\n",
            "installing: ptyprocess-0.5.2-py36h69acd42_0 ...\n",
            "installing: py-1.5.3-py36_0 ...\n",
            "installing: pycodestyle-2.4.0-py36_0 ...\n",
            "installing: pycosat-0.6.3-py36h0a5515d_0 ...\n",
            "installing: pycparser-2.18-py36hf9f622e_1 ...\n",
            "installing: pycrypto-2.6.1-py36h14c3975_8 ...\n",
            "installing: pycurl-7.43.0.1-py36hb7f436b_0 ...\n",
            "installing: pyodbc-4.0.23-py36hf484d3e_0 ...\n",
            "installing: pyparsing-2.2.0-py36hee85983_1 ...\n",
            "installing: pysocks-1.6.8-py36_0 ...\n",
            "installing: pytz-2018.4-py36_0 ...\n",
            "installing: pyyaml-3.12-py36hafb9ca4_1 ...\n",
            "installing: pyzmq-17.0.0-py36h14c3975_0 ...\n",
            "installing: qt-5.9.5-h7e424d6_0 ...\n",
            "installing: qtpy-1.4.1-py36_0 ...\n",
            "installing: rope-0.10.7-py36h147e2ec_0 ...\n",
            "installing: ruamel_yaml-0.15.35-py36h14c3975_1 ...\n",
            "installing: send2trash-1.5.0-py36_0 ...\n",
            "installing: simplegeneric-0.8.1-py36_2 ...\n",
            "installing: sip-4.19.8-py36hf484d3e_0 ...\n",
            "installing: six-1.11.0-py36h372c433_1 ...\n",
            "installing: snowballstemmer-1.2.1-py36h6febd40_0 ...\n",
            "installing: sortedcontainers-1.5.10-py36_0 ...\n",
            "installing: sphinxcontrib-1.0-py36h6d0f590_1 ...\n",
            "installing: sqlalchemy-1.2.7-py36h6b74fdf_0 ...\n",
            "installing: tblib-1.3.2-py36h34cf8b6_0 ...\n",
            "installing: testpath-0.3.1-py36h8cadb63_0 ...\n",
            "installing: toolz-0.9.0-py36_0 ...\n",
            "installing: tornado-5.0.2-py36_0 ...\n",
            "installing: typing-3.6.4-py36_0 ...\n",
            "installing: unicodecsv-0.14.1-py36ha668878_0 ...\n",
            "installing: wcwidth-0.1.7-py36hdf4376a_0 ...\n",
            "installing: webencodings-0.5.1-py36h800622e_1 ...\n",
            "installing: werkzeug-0.14.1-py36_0 ...\n",
            "installing: wrapt-1.10.11-py36h28b7045_0 ...\n",
            "installing: xlrd-1.1.0-py36h1db9f0c_1 ...\n",
            "installing: xlsxwriter-1.0.4-py36_0 ...\n",
            "installing: xlwt-1.3.0-py36h7b00a1f_0 ...\n",
            "installing: babel-2.5.3-py36_0 ...\n",
            "installing: backports.shutil_get_terminal_size-1.0.0-py36hfea85ff_2 ...\n",
            "installing: cffi-1.11.5-py36h9745a5d_0 ...\n",
            "installing: conda-verify-2.0.0-py36h98955d8_0 ...\n",
            "installing: cycler-0.10.0-py36h93f1223_0 ...\n",
            "installing: cytoolz-0.9.0.1-py36h14c3975_0 ...\n",
            "installing: harfbuzz-1.7.6-h5f0a787_1 ...\n",
            "installing: html5lib-1.0.1-py36h2f9c1c0_0 ...\n",
            "installing: jedi-0.12.0-py36_1 ...\n",
            "installing: more-itertools-4.1.0-py36_0 ...\n",
            "installing: networkx-2.1-py36_0 ...\n",
            "installing: nltk-3.3.0-py36_0 ...\n",
            "installing: openpyxl-2.5.3-py36_0 ...\n",
            "installing: packaging-17.1-py36_0 ...\n",
            "installing: partd-0.3.8-py36h36fd896_0 ...\n",
            "installing: pathlib2-2.3.2-py36_0 ...\n",
            "installing: pexpect-4.5.0-py36_0 ...\n",
            "installing: pillow-5.1.0-py36h3deb7b8_0 ...\n",
            "installing: pyqt-5.9.2-py36h751905a_0 ...\n",
            "installing: python-dateutil-2.7.3-py36_0 ...\n",
            "installing: qtawesome-0.4.4-py36h609ed8c_0 ...\n",
            "installing: setuptools-39.1.0-py36_0 ...\n",
            "installing: singledispatch-3.4.0.3-py36h7a266c3_0 ...\n",
            "installing: sortedcollections-0.6.1-py36_0 ...\n",
            "installing: sphinxcontrib-websupport-1.0.1-py36hb5cb234_1 ...\n",
            "installing: sympy-1.1.1-py36hc6d1c1c_0 ...\n",
            "installing: terminado-0.8.1-py36_1 ...\n",
            "installing: traitlets-4.3.2-py36h674d592_0 ...\n",
            "installing: zict-0.1.3-py36h3a3bf81_0 ...\n",
            "installing: astroid-1.6.3-py36_0 ...\n",
            "installing: bleach-2.1.3-py36_0 ...\n",
            "installing: clyent-1.2.2-py36h7e57e65_1 ...\n",
            "installing: cryptography-2.2.2-py36h14c3975_0 ...\n",
            "installing: cython-0.28.2-py36h14c3975_0 ...\n",
            "installing: distributed-1.21.8-py36_0 ...\n",
            "installing: get_terminal_size-1.0.0-haa9412d_0 ...\n",
            "installing: gevent-1.3.0-py36h14c3975_0 ...\n",
            "installing: isort-4.3.4-py36_0 ...\n",
            "installing: jinja2-2.10-py36ha16c418_0 ...\n",
            "installing: jsonschema-2.6.0-py36h006f8b5_0 ...\n",
            "installing: jupyter_core-4.4.0-py36h7c827e3_0 ...\n",
            "installing: navigator-updater-0.2.1-py36_0 ...\n",
            "installing: nose-1.3.7-py36hcdf7029_2 ...\n",
            "installing: pango-1.41.0-hd475d92_0 ...\n",
            "installing: pyflakes-1.6.0-py36h7bd6a15_0 ...\n",
            "installing: pygments-2.2.0-py36h0d3125c_0 ...\n",
            "installing: pytest-3.5.1-py36_0 ...\n",
            "installing: wheel-0.31.1-py36_0 ...\n",
            "installing: flask-1.0.2-py36_1 ...\n",
            "installing: jupyter_client-5.2.3-py36_0 ...\n",
            "installing: nbformat-4.4.0-py36h31c9010_0 ...\n",
            "installing: pip-10.0.1-py36_0 ...\n",
            "installing: prompt_toolkit-1.0.15-py36h17d85b1_0 ...\n",
            "installing: pylint-1.8.4-py36_0 ...\n",
            "installing: pyopenssl-18.0.0-py36_0 ...\n",
            "installing: pytest-openfiles-0.3.0-py36_0 ...\n",
            "installing: pytest-remotedata-0.2.1-py36_0 ...\n",
            "installing: flask-cors-3.0.4-py36_0 ...\n",
            "installing: ipython-6.4.0-py36_0 ...\n",
            "installing: nbconvert-5.3.1-py36hb41ffb7_0 ...\n",
            "installing: urllib3-1.22-py36hbe7ace6_0 ...\n",
            "installing: ipykernel-4.8.2-py36_0 ...\n",
            "installing: requests-2.18.4-py36he2e5f8d_1 ...\n",
            "installing: anaconda-client-1.6.14-py36_0 ...\n",
            "installing: jupyter_console-5.2.0-py36he59e554_1 ...\n",
            "installing: notebook-5.5.0-py36_0 ...\n",
            "installing: qtconsole-4.3.1-py36h8f73b5b_0 ...\n",
            "installing: sphinx-1.7.4-py36_0 ...\n",
            "installing: anaconda-navigator-1.8.7-py36_0 ...\n",
            "installing: anaconda-project-0.8.2-py36h44fb852_0 ...\n",
            "installing: jupyterlab_launcher-0.10.5-py36_0 ...\n",
            "installing: numpydoc-0.8.0-py36_0 ...\n",
            "installing: widgetsnbextension-3.2.1-py36_0 ...\n",
            "installing: ipywidgets-7.2.1-py36_0 ...\n",
            "installing: jupyterlab-0.32.1-py36_0 ...\n",
            "installing: spyder-3.2.8-py36_0 ...\n",
            "installing: _ipyw_jlab_nb_ext_conf-0.1.0-py36he11e457_0 ...\n",
            "installing: jupyter-1.0.0-py36_4 ...\n",
            "installing: bokeh-0.12.16-py36_0 ...\n",
            "installing: bottleneck-1.2.1-py36haac1ea0_0 ...\n",
            "installing: conda-4.5.4-py36_0 ...\n",
            "installing: conda-build-3.10.5-py36_0 ...\n",
            "installing: datashape-0.5.4-py36h3ad6b5c_0 ...\n",
            "installing: h5py-2.7.1-py36ha1f6525_2 ...\n",
            "installing: imageio-2.3.0-py36_0 ...\n",
            "installing: matplotlib-2.2.2-py36h0e671d2_1 ...\n",
            "installing: mkl_fft-1.0.1-py36h3010b51_0 ...\n",
            "installing: mkl_random-1.0.1-py36h629b387_0 ...\n",
            "installing: numpy-1.14.3-py36hcd700cb_1 ...\n",
            "installing: numba-0.38.0-py36h637b7d7_0 ...\n",
            "installing: numexpr-2.6.5-py36h7bf3b9c_0 ...\n",
            "installing: pandas-0.23.0-py36h637b7d7_0 ...\n",
            "installing: pytest-arraydiff-0.2-py36_0 ...\n",
            "installing: pytest-doctestplus-0.1.3-py36_0 ...\n",
            "installing: pywavelets-0.5.2-py36he602eb0_0 ...\n",
            "installing: scipy-1.1.0-py36hfc37229_0 ...\n",
            "installing: bkcharts-0.2-py36h735825a_0 ...\n",
            "installing: dask-0.17.5-py36_0 ...\n",
            "installing: patsy-0.5.0-py36_0 ...\n",
            "installing: pytables-3.4.3-py36h02b9ad4_2 ...\n",
            "installing: pytest-astropy-0.3.0-py36_0 ...\n",
            "installing: scikit-learn-0.19.1-py36h7aa7ec6_0 ...\n",
            "installing: astropy-3.0.2-py36h3010b51_1 ...\n",
            "installing: odo-0.5.1-py36h90ed295_0 ...\n",
            "installing: scikit-image-0.13.1-py36h14c3975_1 ...\n",
            "installing: statsmodels-0.9.0-py36h3010b51_0 ...\n",
            "installing: blaze-0.11.3-py36h4e06776_0 ...\n",
            "installing: seaborn-0.8.1-py36hfad7ec4_0 ...\n",
            "installing: anaconda-5.2.0-py36_3 ...\n",
            "installation finished.\n",
            "WARNING:\n",
            "    You currently have a PYTHONPATH environment variable set. This may cause\n",
            "    unexpected behavior when running the Python interpreter in Anaconda3.\n",
            "    For best results, please verify that your PYTHONPATH only points to\n",
            "    directories of packages that are compatible with the Python interpreter\n",
            "    in Anaconda3: /usr/local\n"
          ]
        }
      ]
    },
    {
      "cell_type": "code",
      "source": [
        "import sys\n",
        "sys.path.append('/usr/local/lib/python3.8/site-packages/')  # Update to your Python version\n"
      ],
      "metadata": {
        "id": "0Olvd3p7oykq"
      },
      "execution_count": 77,
      "outputs": []
    },
    {
      "cell_type": "code",
      "source": [
        "!python --version\n"
      ],
      "metadata": {
        "colab": {
          "base_uri": "https://localhost:8080/"
        },
        "id": "5zOAwP8nrDWq",
        "outputId": "adce6aff-441b-4ceb-ddab-8a5bf9a6dcff"
      },
      "execution_count": 85,
      "outputs": [
        {
          "output_type": "stream",
          "name": "stdout",
          "text": [
            "Python 3.6.5 :: Anaconda, Inc.\n"
          ]
        }
      ]
    },
    {
      "cell_type": "code",
      "source": [
        "!conda install -q -y -c pytorch faiss-cpu"
      ],
      "metadata": {
        "colab": {
          "base_uri": "https://localhost:8080/"
        },
        "id": "Xt6qj2FZrfvh",
        "outputId": "1139c057-bd53-42aa-df4b-dd5f4444319d"
      },
      "execution_count": 86,
      "outputs": [
        {
          "output_type": "stream",
          "name": "stdout",
          "text": [
            "Solving environment: ...working... failed\n",
            "\n",
            "# >>>>>>>>>>>>>>>>>>>>>> ERROR REPORT <<<<<<<<<<<<<<<<<<<<<<\n",
            "\n",
            "`$ /usr/local/bin/conda install -q -y -c pytorch faiss-cpu`\n",
            "\n",
            "  environment variables:\n",
            "                 CIO_TEST=<not set>\n",
            "COLAB_DEBUG_ADAPTER_MUX_PATH=/usr/local/bin/dap_multiplexer\n",
            "COLAB_LANGUAGE_SERVER_PROXY=<set>\n",
            "               CONDA_ROOT=/usr/local\n",
            "          LD_LIBRARY_PATH=/usr/local/nvidia/lib:/usr/local/nvidia/lib64\n",
            "             LIBRARY_PATH=/usr/local/cuda/lib64/stubs\n",
            "                     PATH=/opt/bin:/usr/local/nvidia/bin:/usr/local/cuda/bin:/usr/local/sbin:/us\n",
            "                          r/local/bin:/usr/sbin:/usr/bin:/sbin:/bin:/tools/node/bin:/tools/googl\n",
            "                          e-cloud-sdk/bin\n",
            "               PYTHONPATH=/env/python\n",
            "           PYTHONWARNINGS=ignore:::pip._internal.cli.base_command\n",
            "       REQUESTS_CA_BUNDLE=<not set>\n",
            "            SSL_CERT_FILE=<not set>\n",
            "               TCLLIBPATH=/usr/share/tcltk/tcllib1.20\n",
            "\n",
            "     active environment : None\n",
            "       user config file : /root/.condarc\n",
            " populated config files : \n",
            "          conda version : 4.5.4\n",
            "    conda-build version : 3.10.5\n",
            "         python version : 3.6.5.final.0\n",
            "       base environment : /usr/local  (writable)\n",
            "           channel URLs : https://conda.anaconda.org/pytorch/linux-64\n",
            "                          https://conda.anaconda.org/pytorch/noarch\n",
            "                          https://repo.anaconda.com/pkgs/main/linux-64\n",
            "                          https://repo.anaconda.com/pkgs/main/noarch\n",
            "                          https://repo.anaconda.com/pkgs/free/linux-64\n",
            "                          https://repo.anaconda.com/pkgs/free/noarch\n",
            "                          https://repo.anaconda.com/pkgs/r/linux-64\n",
            "                          https://repo.anaconda.com/pkgs/r/noarch\n",
            "                          https://repo.anaconda.com/pkgs/pro/linux-64\n",
            "                          https://repo.anaconda.com/pkgs/pro/noarch\n",
            "          package cache : /usr/local/pkgs\n",
            "                          /root/.conda/pkgs\n",
            "       envs directories : /usr/local/envs\n",
            "                          /root/.conda/envs\n",
            "               platform : linux-64\n",
            "             user-agent : conda/4.5.4 requests/2.18.4 CPython/3.6.5 Linux/6.1.85+ ubuntu/22.04 glibc/2.35\n",
            "                UID:GID : 0:0\n",
            "             netrc file : None\n",
            "           offline mode : False\n",
            "\n",
            "\n",
            "V V V V V V V V V V V V V V V V V V V V V V V V V V V V V V V\n",
            "\n",
            "CondaHTTPError: HTTP 000 CONNECTION FAILED for url <https://repo.anaconda.com/pkgs/main/linux-64/repodata.json.bz2>\n",
            "Elapsed: -\n",
            "\n",
            "An HTTP error occurred when trying to retrieve this URL.\n",
            "HTTP errors are often intermittent, and a simple retry will get you on your way.\n",
            "\n",
            "If your current network has https://www.anaconda.com blocked, please file\n",
            "a support request with your network engineering team.\n",
            "\n",
            "SSLError(MaxRetryError('HTTPSConnectionPool(host=\\'repo.anaconda.com\\', port=443): Max retries exceeded with url: /pkgs/main/linux-64/repodata.json.bz2 (Caused by SSLError(SSLError(\"bad handshake: Error([(\\'SSL routines\\', \\'ssl3_get_server_certificate\\', \\'certificate verify failed\\')],)\",),))',),)\n",
            "\n",
            "A reportable application error has occurred. Conda has prepared the above report.\n",
            "Upload successful.\n"
          ]
        }
      ]
    },
    {
      "cell_type": "code",
      "source": [
        "import faiss"
      ],
      "metadata": {
        "id": "t_DHwzFyrycW"
      },
      "execution_count": 87,
      "outputs": []
    },
    {
      "cell_type": "code",
      "metadata": {
        "id": "drtEh7FMqEHq",
        "outputId": "524487e6-510d-4f01-9787-522bd4eca2a4",
        "colab": {
          "base_uri": "https://localhost:8080/",
          "height": 74
        }
      },
      "source": [
        "%%html\n",
        "<h1>Heading 1</h1>"
      ],
      "execution_count": null,
      "outputs": [
        {
          "output_type": "display_data",
          "data": {
            "text/html": [
              "<h1>Heading 1</h1>"
            ],
            "text/plain": [
              "<IPython.core.display.HTML object>"
            ]
          },
          "metadata": {
            "tags": []
          }
        }
      ]
    },
    {
      "cell_type": "code",
      "metadata": {
        "id": "gOAhItlYqHWg",
        "colab": {
          "base_uri": "https://localhost:8080/"
        },
        "outputId": "870210b5-d8cb-4475-a9db-4c64d7b427ff"
      },
      "source": [
        "%load_ext rpy2.ipython"
      ],
      "execution_count": 96,
      "outputs": [
        {
          "output_type": "stream",
          "name": "stdout",
          "text": [
            "The rpy2.ipython extension is already loaded. To reload it, use:\n",
            "  %reload_ext rpy2.ipython\n"
          ]
        }
      ]
    },
    {
      "cell_type": "code",
      "metadata": {
        "id": "elurTZ_yrMEd",
        "colab": {
          "base_uri": "https://localhost:8080/"
        },
        "outputId": "a85584fb-84c9-42ef-f06d-0933d9808369"
      },
      "source": [
        "%%R\n",
        "x <- 42\n",
        "print(x)"
      ],
      "execution_count": 97,
      "outputs": [
        {
          "output_type": "stream",
          "name": "stdout",
          "text": [
            "[1] 42\n"
          ]
        }
      ]
    },
    {
      "cell_type": "code",
      "metadata": {
        "id": "FhSx-Wn-kYzF"
      },
      "source": [
        "import re\n",
        "from IPython.display import HTML\n",
        "from IPython.core.magic import register_cell_magic"
      ],
      "execution_count": 98,
      "outputs": []
    },
    {
      "cell_type": "code",
      "metadata": {
        "id": "MZbetgo6oxDR"
      },
      "source": [
        "def var_sub(m):\n",
        "  v = globals()[m[1]]\n",
        "  if type(v) != str:\n",
        "    v = repr(v)\n",
        "  return v"
      ],
      "execution_count": 99,
      "outputs": []
    },
    {
      "cell_type": "code",
      "metadata": {
        "id": "Jz1CkAdup5ro"
      },
      "source": [
        "@register_cell_magic\n",
        "def javascript(line=\"\", cell=\"\"):\n",
        "  # var sub\n",
        "  cell = re.sub(r'\\{\\{(\\w+)+}}', var_sub, cell)\n",
        "\n",
        "  m = re.match(r'\\w+', line)\n",
        "  if m:                       # assign to a variable\n",
        "    globals()[m[0]] = cell\n",
        "  else:                       # normal display\n",
        "    display(HTML(\"\"\"\n",
        "<div id=\"drawing\"></div>\n",
        "<script src=\"https://cdnjs.cloudflare.com/ajax/libs/svg.js/2.6.5/svg.js\"></script>\n",
        "<script>\n",
        "var draw = SVG('drawing').size('100%', 100)\n",
        "var y_cursor_pos = 0\n",
        "function print(x){\n",
        "  draw.text(x.toString()).move(400, y_cursor_pos)\n",
        "  y_cursor_pos += 20\n",
        "}\n",
        "\n",
        "text = s=> draw.text(s).font('anchor', 'middle')\n",
        "line = (x1,y1, x2,y2)=> draw.line(x1,y1, x2, y2).stroke({width: 1})\n",
        "max = Math.max\n",
        "\"\"\" + cell))"
      ],
      "execution_count": 100,
      "outputs": []
    },
    {
      "cell_type": "code",
      "metadata": {
        "id": "7KYAvUjJp8VF",
        "colab": {
          "base_uri": "https://localhost:8080/",
          "height": 121
        },
        "outputId": "712d8b2f-1300-4f40-f64f-5d747b13bf62"
      },
      "source": [
        "%%javascript\n",
        "\n",
        "draw.rect(100, 100)"
      ],
      "execution_count": 101,
      "outputs": [
        {
          "output_type": "display_data",
          "data": {
            "text/plain": [
              "<IPython.core.display.HTML object>"
            ],
            "text/html": [
              "\n",
              "<div id=\"drawing\"></div>\n",
              "<script src=\"https://cdnjs.cloudflare.com/ajax/libs/svg.js/2.6.5/svg.js\"></script>\n",
              "<script>\n",
              "var draw = SVG('drawing').size('100%', 100)\n",
              "var y_cursor_pos = 0\n",
              "function print(x){\n",
              "  draw.text(x.toString()).move(400, y_cursor_pos)\n",
              "  y_cursor_pos += 20\n",
              "}\n",
              "\n",
              "text = s=> draw.text(s).font('anchor', 'middle')\n",
              "line = (x1,y1, x2,y2)=> draw.line(x1,y1, x2, y2).stroke({width: 1})\n",
              "max = Math.max\n",
              "\n",
              "draw.rect(100, 100)\n"
            ]
          },
          "metadata": {}
        }
      ]
    },
    {
      "cell_type": "markdown",
      "source": [
        "# Elastic search"
      ],
      "metadata": {
        "id": "kP-mst8oy0hT"
      }
    },
    {
      "cell_type": "code",
      "metadata": {
        "id": "IyAsRwJwp-e5"
      },
      "source": [
        "# install\n",
        "!wget https://artifacts.elastic.co/downloads/elasticsearch/elasticsearch-7.0.0-linux-x86_64.tar.gz -q\n",
        "!tar -xzf elasticsearch-7.0.0-linux-x86_64.tar.gz\n",
        "!chown -R daemon:daemon elasticsearch-7.0.0"
      ],
      "execution_count": 142,
      "outputs": []
    },
    {
      "cell_type": "code",
      "metadata": {
        "id": "ooEIvnpcsytL"
      },
      "source": [
        "# start server\n",
        "import os\n",
        "from subprocess import Popen, PIPE, STDOUT\n",
        "es_server = Popen(['elasticsearch-7.0.0/bin/elasticsearch'],\n",
        "                  stdout=PIPE, stderr=STDOUT,\n",
        "                  preexec_fn=lambda: os.setuid(1)  # as daemon\n",
        "                 )"
      ],
      "execution_count": 143,
      "outputs": []
    },
    {
      "cell_type": "code",
      "metadata": {
        "id": "-k7pPqOfs1sE",
        "colab": {
          "base_uri": "https://localhost:8080/"
        },
        "outputId": "a35a690b-7120-461d-a1ab-502bb50c6650"
      },
      "source": [
        "!curl -X GET \"localhost:9200/\""
      ],
      "execution_count": 145,
      "outputs": [
        {
          "output_type": "stream",
          "name": "stdout",
          "text": [
            "{\n",
            "  \"name\" : \"1e032b9b7027\",\n",
            "  \"cluster_name\" : \"elasticsearch\",\n",
            "  \"cluster_uuid\" : \"erav92k2SumYr7UyWuVgRA\",\n",
            "  \"version\" : {\n",
            "    \"number\" : \"7.0.0\",\n",
            "    \"build_flavor\" : \"default\",\n",
            "    \"build_type\" : \"tar\",\n",
            "    \"build_hash\" : \"b7e28a7\",\n",
            "    \"build_date\" : \"2019-04-05T22:55:32.697037Z\",\n",
            "    \"build_snapshot\" : false,\n",
            "    \"lucene_version\" : \"8.0.0\",\n",
            "    \"minimum_wire_compatibility_version\" : \"6.7.0\",\n",
            "    \"minimum_index_compatibility_version\" : \"6.0.0-beta1\"\n",
            "  },\n",
            "  \"tagline\" : \"You Know, for Search\"\n",
            "}\n"
          ]
        }
      ]
    },
    {
      "cell_type": "code",
      "metadata": {
        "id": "5M9rRBpDs1n1"
      },
      "source": [
        "from requests import models, Session, Request\n",
        "from urllib.parse import urljoin\n",
        "from IPython.core.magic import register_cell_magic\n",
        "import re\n",
        "\n",
        "# to display json response\n",
        "def render(r):\n",
        "  text = r.text\n",
        "  if text[0] in \"[{\":\n",
        "    return \"\"\"\n",
        "    <script src=\"https://rawgit.com/caldwell/renderjson/master/renderjson.js\"></script>\n",
        "    <script>\n",
        "    renderjson.set_show_to_level(1)\n",
        "    document.body.appendChild(renderjson(%s))\n",
        "    new ResizeObserver(google.colab.output.resizeIframeToContent).observe(document.body)\n",
        "    </script>\n",
        "    \"\"\" % text\n",
        "  else:\n",
        "    return \"<pre>%s</pre>\" % text\n",
        "models.Response._repr_html_ = render"
      ],
      "execution_count": 146,
      "outputs": []
    },
    {
      "cell_type": "code",
      "metadata": {
        "id": "ZjOVo3QOs1f7"
      },
      "source": [
        "@register_cell_magic\n",
        "def es(line=None, cell=\"\"):\n",
        "  cell = re.sub(r'(?m)^\\s*#.*\\n?','', cell)\n",
        "  line1 = (cell + '\\n').find('\\n')\n",
        "  method, path = cell[:line1].split(None, 1)\n",
        "  body = cell[line1:].strip()\n",
        "  args = {}\n",
        "  if body:\n",
        "    args['data'] = (body + '\\n').encode()\n",
        "    args['headers'] = {'Content-Type': 'application/json'}\n",
        "\n",
        "  rsp = Session().send(\n",
        "          Request(method, urljoin('http://localhost:9200', path), **args)\n",
        "            .prepare())\n",
        "  return rsp"
      ],
      "execution_count": 147,
      "outputs": []
    },
    {
      "cell_type": "code",
      "metadata": {
        "id": "xWjaYenSs-rx",
        "colab": {
          "base_uri": "https://localhost:8080/",
          "height": 138
        },
        "outputId": "01709313-7617-4f1f-db83-0763495ea13e"
      },
      "source": [
        "%%es\n",
        "GET /"
      ],
      "execution_count": 148,
      "outputs": [
        {
          "output_type": "execute_result",
          "data": {
            "text/plain": [
              "<Response [200]>"
            ],
            "text/html": [
              "\n",
              "    <script src=\"https://rawgit.com/caldwell/renderjson/master/renderjson.js\"></script>\n",
              "    <script>\n",
              "    renderjson.set_show_to_level(1)\n",
              "    document.body.appendChild(renderjson({\n",
              "  \"name\" : \"1e032b9b7027\",\n",
              "  \"cluster_name\" : \"elasticsearch\",\n",
              "  \"cluster_uuid\" : \"erav92k2SumYr7UyWuVgRA\",\n",
              "  \"version\" : {\n",
              "    \"number\" : \"7.0.0\",\n",
              "    \"build_flavor\" : \"default\",\n",
              "    \"build_type\" : \"tar\",\n",
              "    \"build_hash\" : \"b7e28a7\",\n",
              "    \"build_date\" : \"2019-04-05T22:55:32.697037Z\",\n",
              "    \"build_snapshot\" : false,\n",
              "    \"lucene_version\" : \"8.0.0\",\n",
              "    \"minimum_wire_compatibility_version\" : \"6.7.0\",\n",
              "    \"minimum_index_compatibility_version\" : \"6.0.0-beta1\"\n",
              "  },\n",
              "  \"tagline\" : \"You Know, for Search\"\n",
              "}\n",
              "))\n",
              "    new ResizeObserver(google.colab.output.resizeIframeToContent).observe(document.body)\n",
              "    </script>\n",
              "    "
            ]
          },
          "metadata": {},
          "execution_count": 148
        }
      ]
    },
    {
      "cell_type": "code",
      "metadata": {
        "id": "1bjZWiU_tVx8",
        "colab": {
          "base_uri": "https://localhost:8080/",
          "height": 191
        },
        "outputId": "b09525be-da68-4535-940f-5821492dbf5d"
      },
      "source": [
        "%%es\n",
        "PUT /customer/_doc/1\n",
        "{\n",
        "  \"name\": \"Rutuja Nemane\"\n",
        "}"
      ],
      "execution_count": 149,
      "outputs": [
        {
          "output_type": "execute_result",
          "data": {
            "text/plain": [
              "<Response [200]>"
            ],
            "text/html": [
              "\n",
              "    <script src=\"https://rawgit.com/caldwell/renderjson/master/renderjson.js\"></script>\n",
              "    <script>\n",
              "    renderjson.set_show_to_level(1)\n",
              "    document.body.appendChild(renderjson({\"_index\":\"customer\",\"_type\":\"_doc\",\"_id\":\"1\",\"_version\":2,\"result\":\"updated\",\"_shards\":{\"total\":2,\"successful\":1,\"failed\":0},\"_seq_no\":2,\"_primary_term\":3}))\n",
              "    new ResizeObserver(google.colab.output.resizeIframeToContent).observe(document.body)\n",
              "    </script>\n",
              "    "
            ]
          },
          "metadata": {},
          "execution_count": 149
        }
      ]
    },
    {
      "cell_type": "code",
      "metadata": {
        "id": "5SLs5QH_tjns",
        "colab": {
          "base_uri": "https://localhost:8080/",
          "height": 191
        },
        "outputId": "e54df55b-5eb3-4325-f34f-c18f03139d72"
      },
      "source": [
        "%%es\n",
        "PUT customer/_doc/2\n",
        "{\n",
        "  \"name\": \"Rutuja Nemane\"\n",
        "}"
      ],
      "execution_count": 150,
      "outputs": [
        {
          "output_type": "execute_result",
          "data": {
            "text/plain": [
              "<Response [200]>"
            ],
            "text/html": [
              "\n",
              "    <script src=\"https://rawgit.com/caldwell/renderjson/master/renderjson.js\"></script>\n",
              "    <script>\n",
              "    renderjson.set_show_to_level(1)\n",
              "    document.body.appendChild(renderjson({\"_index\":\"customer\",\"_type\":\"_doc\",\"_id\":\"2\",\"_version\":2,\"result\":\"updated\",\"_shards\":{\"total\":2,\"successful\":1,\"failed\":0},\"_seq_no\":3,\"_primary_term\":3}))\n",
              "    new ResizeObserver(google.colab.output.resizeIframeToContent).observe(document.body)\n",
              "    </script>\n",
              "    "
            ]
          },
          "metadata": {},
          "execution_count": 150
        }
      ]
    },
    {
      "cell_type": "markdown",
      "source": [
        "# Python calls JS\n",
        "\n"
      ],
      "metadata": {
        "id": "GXXR_ZGkzAjo"
      }
    },
    {
      "cell_type": "code",
      "metadata": {
        "id": "E5X0TonDtsJB",
        "colab": {
          "base_uri": "https://localhost:8080/",
          "height": 34
        },
        "outputId": "c07788fc-e8f9-4b48-ff48-6bf71208eff5"
      },
      "source": [
        "%%html\n",
        "<script>\n",
        "document.body.append(document.createTextNode(\"Hello\"))\n",
        "</script>"
      ],
      "execution_count": 112,
      "outputs": [
        {
          "output_type": "display_data",
          "data": {
            "text/plain": [
              "<IPython.core.display.HTML object>"
            ],
            "text/html": [
              "<script>\n",
              "document.body.append(document.createTextNode(\"Hello\"))\n",
              "</script>\n"
            ]
          },
          "metadata": {}
        }
      ]
    },
    {
      "cell_type": "code",
      "metadata": {
        "id": "q_JeLtMcwWsE",
        "colab": {
          "base_uri": "https://localhost:8080/",
          "height": 34
        },
        "outputId": "3fc459a1-4cd0-410f-ce46-d3ec9f7e46aa"
      },
      "source": [
        "from IPython.display import Javascript\n",
        "Javascript('document.body.append(document.createTextNode(\"Hello\"))')"
      ],
      "execution_count": 113,
      "outputs": [
        {
          "output_type": "execute_result",
          "data": {
            "text/plain": [
              "<IPython.core.display.Javascript object>"
            ],
            "application/javascript": [
              "document.body.append(document.createTextNode(\"Hello\"))"
            ]
          },
          "metadata": {},
          "execution_count": 113
        }
      ]
    },
    {
      "cell_type": "code",
      "metadata": {
        "id": "e6RhNzptzOm9",
        "colab": {
          "base_uri": "https://localhost:8080/",
          "height": 34
        },
        "outputId": "47358b28-2b02-4f06-fd70-3fb645009506"
      },
      "source": [
        "from google.colab.output import eval_js\n",
        "eval_js('1+1')"
      ],
      "execution_count": 114,
      "outputs": [
        {
          "output_type": "execute_result",
          "data": {
            "text/plain": [
              "2"
            ]
          },
          "metadata": {},
          "execution_count": 114
        }
      ]
    },
    {
      "cell_type": "markdown",
      "source": [
        "# JS calls Python"
      ],
      "metadata": {
        "id": "CYNcFx5kzKXV"
      }
    },
    {
      "cell_type": "code",
      "metadata": {
        "id": "Pqts-Te0zhMG"
      },
      "source": [
        "from IPython.display import JSON\n",
        "import IPython.display as idisplay\n",
        "from google.colab import output\n",
        "\n",
        "def concat(a, b):\n",
        "  return JSON({'result': '%s %s' % (a, b)})\n",
        "\n",
        "output.register_callback('notebook.concat', concat)"
      ],
      "execution_count": 115,
      "outputs": []
    },
    {
      "cell_type": "code",
      "metadata": {
        "id": "sb9ejzQ92X0U",
        "colab": {
          "base_uri": "https://localhost:8080/",
          "height": 34
        },
        "outputId": "d873aaba-a895-48bd-a3f1-9cde5441cc53"
      },
      "source": [
        "idisplay.Javascript('''\n",
        "(async function() {\n",
        "\n",
        "  const result = await google.colab.kernel.invokeFunction(\n",
        "    'notebook.concat',\n",
        "    ['hello', 'world!'],\n",
        "    {});\n",
        "\n",
        "  const text = result.data['application/json'].result;\n",
        "\n",
        "  document.querySelector(\"#output-area\").appendChild(document.createTextNode(text))\n",
        "\n",
        "})();\n",
        "''')"
      ],
      "execution_count": 116,
      "outputs": [
        {
          "output_type": "execute_result",
          "data": {
            "text/plain": [
              "<IPython.core.display.Javascript object>"
            ],
            "application/javascript": [
              "\n",
              "(async function() {\n",
              "\n",
              "  const result = await google.colab.kernel.invokeFunction(\n",
              "    'notebook.concat',\n",
              "    ['hello', 'world!'],\n",
              "    {});\n",
              "\n",
              "  const text = result.data['application/json'].result;\n",
              "\n",
              "  document.querySelector(\"#output-area\").appendChild(document.createTextNode(text))\n",
              "\n",
              "})();\n"
            ]
          },
          "metadata": {},
          "execution_count": 116
        }
      ]
    },
    {
      "cell_type": "markdown",
      "source": [
        "# Clicking photo"
      ],
      "metadata": {
        "id": "TFdWAowvzVJ2"
      }
    },
    {
      "cell_type": "code",
      "metadata": {
        "id": "bi6Ff1zx2fh6"
      },
      "source": [
        "from IPython.display import HTML, Image\n",
        "from google.colab.output import eval_js\n",
        "from base64 import b64decode"
      ],
      "execution_count": 117,
      "outputs": []
    },
    {
      "cell_type": "code",
      "metadata": {
        "id": "SYpPgnIO3N5c"
      },
      "source": [
        "VIDEO_HTML = \"\"\"\n",
        "<video autoplay\n",
        " width=800 height=600></video>\n",
        "<script>\n",
        "var video = document.querySelector('video')\n",
        "navigator.mediaDevices.getUserMedia({ video: true })\n",
        "  .then(stream=> video.srcObject = stream)\n",
        "\n",
        "var data = new Promise(resolve=>{\n",
        "  video.onclick = ()=>{\n",
        "    var canvas = document.createElement('canvas')\n",
        "    var [w,h] = [video.offsetWidth, video.offsetHeight]\n",
        "    canvas.width = w\n",
        "    canvas.height = h\n",
        "    canvas.getContext('2d')\n",
        "          .drawImage(video, 0, 0, w, h)\n",
        "    video.srcObject.getVideoTracks()[0].stop()\n",
        "    video.replaceWith(canvas)\n",
        "    resolve(canvas.toDataURL('image/jpeg', %f))\n",
        "  }\n",
        "})\n",
        "</script>\n",
        "\"\"\""
      ],
      "execution_count": 118,
      "outputs": []
    },
    {
      "cell_type": "code",
      "metadata": {
        "id": "dnZu9bFK3RJa"
      },
      "source": [
        "def take_photo(filename='photo.jpg', quality=0.8):\n",
        "  display(HTML(VIDEO_HTML % quality))\n",
        "  data = eval_js(\"data\")\n",
        "  binary = b64decode(data.split(',')[1])\n",
        "  with open(filename, 'wb') as f:\n",
        "    f.write(binary)\n",
        "  return len(binary)"
      ],
      "execution_count": 119,
      "outputs": []
    },
    {
      "cell_type": "code",
      "source": [
        "take_photo()"
      ],
      "metadata": {
        "colab": {
          "base_uri": "https://localhost:8080/",
          "height": 638
        },
        "id": "okoocrI3wowk",
        "outputId": "d16d813b-56b9-4e87-bd9f-057f2841bd6c"
      },
      "execution_count": 121,
      "outputs": [
        {
          "output_type": "display_data",
          "data": {
            "text/plain": [
              "<IPython.core.display.HTML object>"
            ],
            "text/html": [
              "\n",
              "<video autoplay\n",
              " width=800 height=600></video>\n",
              "<script>\n",
              "var video = document.querySelector('video')\n",
              "navigator.mediaDevices.getUserMedia({ video: true })\n",
              "  .then(stream=> video.srcObject = stream)\n",
              "\n",
              "var data = new Promise(resolve=>{\n",
              "  video.onclick = ()=>{\n",
              "    var canvas = document.createElement('canvas')\n",
              "    var [w,h] = [video.offsetWidth, video.offsetHeight]\n",
              "    canvas.width = w\n",
              "    canvas.height = h\n",
              "    canvas.getContext('2d')\n",
              "          .drawImage(video, 0, 0, w, h)\n",
              "    video.srcObject.getVideoTracks()[0].stop()\n",
              "    video.replaceWith(canvas)\n",
              "    resolve(canvas.toDataURL('image/jpeg', 0.800000))\n",
              "  }\n",
              "})\n",
              "</script>\n"
            ]
          },
          "metadata": {}
        },
        {
          "output_type": "execute_result",
          "data": {
            "text/plain": [
              "29099"
            ]
          },
          "metadata": {},
          "execution_count": 121
        }
      ]
    }
  ]
}